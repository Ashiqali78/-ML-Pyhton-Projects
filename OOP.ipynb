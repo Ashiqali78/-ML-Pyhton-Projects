{
 "cells": [
  {
   "cell_type": "code",
   "execution_count": 1,
   "id": "97b87076-d3e0-4d80-be12-07891f62fc4e",
   "metadata": {},
   "outputs": [],
   "source": [
    "class Car:\n",
    "    def __init__(self,brand,model,eng_type):\n",
    "# All these variables are public\n",
    "        self.brand=brand\n",
    "        self.model=model\n",
    "        self.eng_type=eng_type\n",
    "        \n",
    "    def drive_mode(self):   # Method inside the Car class\n",
    "        return f'This is a {self.eng_type} Car'\n",
    "#Creating the Objects\n",
    "car1=Car('Toyota','Corolla','Petrol')\n",
    "car2=Car('Tesla','X3','Bettery')\n",
    "car3=Car('Honda','Sivic','Desil')"
   ]
  },
  {
   "cell_type": "code",
   "execution_count": 2,
   "id": "47e53167-b34b-4e27-bf39-a169bbb22213",
   "metadata": {},
   "outputs": [
    {
     "data": {
      "text/plain": [
       "'This is a Bettery Car'"
      ]
     },
     "execution_count": 2,
     "metadata": {},
     "output_type": "execute_result"
    }
   ],
   "source": [
    "car2.drive_mode()"
   ]
  },
  {
   "cell_type": "code",
   "execution_count": 3,
   "id": "79037e89-8360-4d82-b581-b9626c02539b",
   "metadata": {},
   "outputs": [
    {
     "data": {
      "text/plain": [
       "['__class__',\n",
       " '__delattr__',\n",
       " '__dict__',\n",
       " '__dir__',\n",
       " '__doc__',\n",
       " '__eq__',\n",
       " '__format__',\n",
       " '__ge__',\n",
       " '__getattribute__',\n",
       " '__getstate__',\n",
       " '__gt__',\n",
       " '__hash__',\n",
       " '__init__',\n",
       " '__init_subclass__',\n",
       " '__le__',\n",
       " '__lt__',\n",
       " '__module__',\n",
       " '__ne__',\n",
       " '__new__',\n",
       " '__reduce__',\n",
       " '__reduce_ex__',\n",
       " '__repr__',\n",
       " '__setattr__',\n",
       " '__sizeof__',\n",
       " '__str__',\n",
       " '__subclasshook__',\n",
       " '__weakref__',\n",
       " 'brand',\n",
       " 'drive_mode',\n",
       " 'eng_type',\n",
       " 'model']"
      ]
     },
     "execution_count": 3,
     "metadata": {},
     "output_type": "execute_result"
    }
   ],
   "source": [
    "dir(car1)"
   ]
  },
  {
   "cell_type": "code",
   "execution_count": 4,
   "id": "4ba17713-e242-42cc-8986-3b3846f989cb",
   "metadata": {},
   "outputs": [
    {
     "data": {
      "text/plain": [
       "['__class__',\n",
       " '__delattr__',\n",
       " '__dict__',\n",
       " '__dir__',\n",
       " '__doc__',\n",
       " '__eq__',\n",
       " '__format__',\n",
       " '__ge__',\n",
       " '__getattribute__',\n",
       " '__getstate__',\n",
       " '__gt__',\n",
       " '__hash__',\n",
       " '__init__',\n",
       " '__init_subclass__',\n",
       " '__le__',\n",
       " '__lt__',\n",
       " '__module__',\n",
       " '__ne__',\n",
       " '__new__',\n",
       " '__reduce__',\n",
       " '__reduce_ex__',\n",
       " '__repr__',\n",
       " '__setattr__',\n",
       " '__sizeof__',\n",
       " '__str__',\n",
       " '__subclasshook__',\n",
       " '__weakref__',\n",
       " '_cgpa',\n",
       " '_name',\n",
       " '_rollNo']"
      ]
     },
     "execution_count": 4,
     "metadata": {},
     "output_type": "execute_result"
    }
   ],
   "source": [
    "# Protected Class using _\n",
    "class Student():\n",
    "    def __init__(self,name,rollNo,cgpa):\n",
    "        self._name=name\n",
    "        self._rollNo=rollNo\n",
    "        self._cgpa=cgpa\n",
    "\n",
    "st1=Student('Awais',78,3.55)\n",
    "dir(st1)\n",
    "# Only Access and overwrite through the child or sub class."
   ]
  },
  {
   "cell_type": "code",
   "execution_count": 5,
   "id": "da3c476e-ab55-4d3e-961d-b4ef4d525315",
   "metadata": {},
   "outputs": [
    {
     "data": {
      "text/plain": [
       "['_StudentInfo__cgpa',\n",
       " '_StudentInfo__name',\n",
       " '_StudentInfo__rollNo',\n",
       " '__class__',\n",
       " '__delattr__',\n",
       " '__dict__',\n",
       " '__dir__',\n",
       " '__doc__',\n",
       " '__eq__',\n",
       " '__format__',\n",
       " '__ge__',\n",
       " '__getattribute__',\n",
       " '__getstate__',\n",
       " '__gt__',\n",
       " '__hash__',\n",
       " '__init__',\n",
       " '__init_subclass__',\n",
       " '__le__',\n",
       " '__lt__',\n",
       " '__module__',\n",
       " '__ne__',\n",
       " '__new__',\n",
       " '__reduce__',\n",
       " '__reduce_ex__',\n",
       " '__repr__',\n",
       " '__setattr__',\n",
       " '__sizeof__',\n",
       " '__str__',\n",
       " '__subclasshook__',\n",
       " '__weakref__']"
      ]
     },
     "execution_count": 5,
     "metadata": {},
     "output_type": "execute_result"
    }
   ],
   "source": [
    "# Private Class using __\n",
    "class StudentInfo():\n",
    "    def __init__(self,name,rollNo,cgpa):\n",
    "        self.__name=name\n",
    "        self.__rollNo=rollNo\n",
    "        self.__cgpa=cgpa\n",
    "\n",
    "st1=StudentInfo(\"Hamza\",61,3.02)\n",
    "dir(st1)"
   ]
  },
  {
   "cell_type": "code",
   "execution_count": 8,
   "id": "d68fd33d-bdec-4159-aa3f-41f88a08bfa1",
   "metadata": {},
   "outputs": [],
   "source": [
    "# Inheritance\n",
    "class Audi(Car):\n",
    "    def __init__(self,brand,model,eng_type,horsepower):\n",
    "        super().__init__(brand,model,eng_type)\n",
    "        self.horsepower=horsepower\n",
    "    def selfDrive(self):\n",
    "        print(\"Audi is self Driving car:)\")"
   ]
  },
  {
   "cell_type": "code",
   "execution_count": 9,
   "id": "cbe8a9ea-858e-4650-9168-4a3c02402420",
   "metadata": {},
   "outputs": [
    {
     "data": {
      "text/plain": [
       "3500"
      ]
     },
     "execution_count": 9,
     "metadata": {},
     "output_type": "execute_result"
    }
   ],
   "source": [
    "# It has all the properties from Car class \n",
    "audi1=Audi('Audi','Changan','fule',3500)\n",
    "audi1.horsepower"
   ]
  },
  {
   "cell_type": "code",
   "execution_count": 10,
   "id": "fab384f5-d766-4658-ab8d-794b308f861a",
   "metadata": {},
   "outputs": [
    {
     "data": {
      "text/plain": [
       "['__annotations__',\n",
       " '__class__',\n",
       " '__delattr__',\n",
       " '__dict__',\n",
       " '__dir__',\n",
       " '__doc__',\n",
       " '__eq__',\n",
       " '__format__',\n",
       " '__ge__',\n",
       " '__getattribute__',\n",
       " '__getstate__',\n",
       " '__gt__',\n",
       " '__hash__',\n",
       " '__init__',\n",
       " '__init_subclass__',\n",
       " '__le__',\n",
       " '__lt__',\n",
       " '__module__',\n",
       " '__ne__',\n",
       " '__new__',\n",
       " '__reduce__',\n",
       " '__reduce_ex__',\n",
       " '__repr__',\n",
       " '__setattr__',\n",
       " '__sizeof__',\n",
       " '__str__',\n",
       " '__subclasshook__',\n",
       " '__weakref__',\n",
       " 'brand',\n",
       " 'drive_mode',\n",
       " 'eng_type',\n",
       " 'horsepower',\n",
       " 'model',\n",
       " 'selfDrive']"
      ]
     },
     "execution_count": 10,
     "metadata": {},
     "output_type": "execute_result"
    }
   ],
   "source": [
    "dir(audi1)"
   ]
  },
  {
   "cell_type": "code",
   "execution_count": null,
   "id": "70b25089-42b2-4cfd-abab-98f7377dc0bd",
   "metadata": {},
   "outputs": [],
   "source": []
  }
 ],
 "metadata": {
  "kernelspec": {
   "display_name": "Python 3 (ipykernel)",
   "language": "python",
   "name": "python3"
  },
  "language_info": {
   "codemirror_mode": {
    "name": "ipython",
    "version": 3
   },
   "file_extension": ".py",
   "mimetype": "text/x-python",
   "name": "python",
   "nbconvert_exporter": "python",
   "pygments_lexer": "ipython3",
   "version": "3.12.3"
  },
  "widgets": {
   "application/vnd.jupyter.widget-state+json": {
    "state": {},
    "version_major": 2,
    "version_minor": 0
   }
  }
 },
 "nbformat": 4,
 "nbformat_minor": 5
}
