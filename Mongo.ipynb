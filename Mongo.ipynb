{
 "cells": [
  {
   "cell_type": "code",
   "execution_count": 2,
   "id": "7d18c974-bf0a-46e0-8158-ef68c35ff492",
   "metadata": {},
   "outputs": [],
   "source": [
    "import pymongo"
   ]
  },
  {
   "cell_type": "code",
   "execution_count": 4,
   "id": "c576a135-796c-426e-b9fa-4e4b0649bef1",
   "metadata": {},
   "outputs": [
    {
     "data": {
      "text/plain": [
       "InsertOneResult(ObjectId('66f505408d5a31e55be831db'), acknowledged=True)"
      ]
     },
     "execution_count": 4,
     "metadata": {},
     "output_type": "execute_result"
    }
   ],
   "source": [
    "# Make connection \n",
    "client=pymongo.MongoClient('mongodb://localhost:27017/')\n",
    "# Creating the database\n",
    "mydb=client[\"Employee\"]\n",
    "# Creating the collections\n",
    "info=mydb.emp_info\n",
    "\n",
    "record={\n",
    "    \"Name\":\"Muhammad Awais\",\n",
    "    \"Roll_NO\":78,\n",
    "    \"CGPA\":3.55,\n",
    "    \"Departement\":\"SE\",\n",
    "    \"Status\":True\n",
    "}\n",
    "# Inserting the data\n",
    "info.insert_one(record)"
   ]
  },
  {
   "cell_type": "code",
   "execution_count": 3,
   "id": "2fb7688d-ee0e-4d6c-99ab-9c0462fa050f",
   "metadata": {},
   "outputs": [
    {
     "data": {
      "text/plain": [
       "InsertManyResult([ObjectId('66f4db8e2bd9a9ee9692ba5b'), ObjectId('66f4db8e2bd9a9ee9692ba5c'), ObjectId('66f4db8e2bd9a9ee9692ba5d'), ObjectId('66f4db8e2bd9a9ee9692ba5e'), ObjectId('66f4db8e2bd9a9ee9692ba5f'), ObjectId('66f4db8e2bd9a9ee9692ba60'), ObjectId('66f4db8e2bd9a9ee9692ba61')], acknowledged=True)"
      ]
     },
     "execution_count": 3,
     "metadata": {},
     "output_type": "execute_result"
    }
   ],
   "source": [
    "# For Inserting the multipul records\n",
    "records=[{\"Name\":\"Murtza\",\"Roll_No\":37,\"CGPA\":2.98,\"Department\":\"Eng\",\"Status\":True},\n",
    "        {\"Name\":\"Sayd Ayhsan\",\"Roll_No\":52,\"CGPA\":3.15,\"Department\":\"Eng\",\"Status\":False},\n",
    "        {\"Name\":\"Abdurhman\",\"Roll_No\":59,\"CGPA\":2.35,\"Department\":\"M-Phil\",\"Status\":False},\n",
    "        {\"Name\":\"Subhan\",\"Roll_No\":40,\"CGPA\":3.02,\"Department\":\"Eng\",\"Status\":True},\n",
    "        {\"Name\":\"Haroon\",\"Roll_No\":59,\"CGPA\":2.45,\"Department\":\"SE\",\"Status\":False},\n",
    "        {\"Name\":\"Ishaq\",\"Roll_No\":69,\"CGPA\":3.25,\"Department\":\"M-Phil\",\"Status\":True},\n",
    "        {\"Name\":\"Zeeshan\",\"Roll_No\":32,\"CGPA\":3.00,\"Department\":\"Law\",\"Status\":False}]\n",
    "info.insert_many(records)"
   ]
  },
  {
   "cell_type": "code",
   "execution_count": 4,
   "id": "9e88f0d2-e42e-4a62-a9c2-ca6c0b77915d",
   "metadata": {},
   "outputs": [
    {
     "name": "stdout",
     "output_type": "stream",
     "text": [
      "{'_id': ObjectId('66f3d7c9285939a503269f60'), 'Name': 'Muhammad Awais', 'Roll_NO': 78, 'CGPA': 3.55, 'Departement': 'SE', 'Status': True}\n",
      "{'_id': ObjectId('66f3d91c285939a503269f61'), 'Name': 'Murtza', 'Roll_No': 37, 'CGPA': 2.98, 'Department': 'Eng', 'Status': True}\n",
      "{'_id': ObjectId('66f3d91c285939a503269f62'), 'Name': 'Sayd Ayhsan', 'Roll_No': 52, 'CGPA': 3.15, 'Department': 'Eng', 'Status': False}\n",
      "{'_id': ObjectId('66f3d91c285939a503269f63'), 'Name': 'Abdurhman', 'Roll_No': 59, 'CGPA': 3.35, 'Department': 'M-Phil', 'Status': False}\n",
      "{'_id': ObjectId('66f3dd44285939a503269f6c'), 'Name': 'Subhan', 'Roll_No': 40, 'CGPA': 3.02, 'Department': 'Eng', 'Status': True}\n",
      "{'_id': ObjectId('66f3dd44285939a503269f6d'), 'Name': 'Haroon', 'Roll_No': 59, 'CGPA': 2.45, 'Department': 'SE', 'Status': False}\n",
      "{'_id': ObjectId('66f3dd44285939a503269f6e'), 'Name': 'Ishaq', 'Roll_No': 69, 'CGPA': 3.25, 'Department': 'M-Phil', 'Status': True}\n",
      "{'_id': ObjectId('66f3dd44285939a503269f6f'), 'Name': 'Zeeshan', 'Roll_No': 32, 'CGPA': 3.0, 'Department': 'Law', 'Status': False}\n",
      "{'_id': ObjectId('66f4db732bd9a9ee9692ba5a'), 'Name': 'Muhammad Awais', 'Roll_NO': 78, 'CGPA': 3.55, 'Departement': 'SE', 'Status': True}\n",
      "{'_id': ObjectId('66f4db8e2bd9a9ee9692ba5b'), 'Name': 'Murtza', 'Roll_No': 37, 'CGPA': 2.98, 'Department': 'Eng', 'Status': True}\n",
      "{'_id': ObjectId('66f4db8e2bd9a9ee9692ba5c'), 'Name': 'Sayd Ayhsan', 'Roll_No': 52, 'CGPA': 3.15, 'Department': 'Eng', 'Status': False}\n",
      "{'_id': ObjectId('66f4db8e2bd9a9ee9692ba5d'), 'Name': 'Abdurhman', 'Roll_No': 59, 'CGPA': 2.35, 'Department': 'M-Phil', 'Status': False}\n",
      "{'_id': ObjectId('66f4db8e2bd9a9ee9692ba5e'), 'Name': 'Subhan', 'Roll_No': 40, 'CGPA': 3.02, 'Department': 'Eng', 'Status': True}\n",
      "{'_id': ObjectId('66f4db8e2bd9a9ee9692ba5f'), 'Name': 'Haroon', 'Roll_No': 59, 'CGPA': 2.45, 'Department': 'SE', 'Status': False}\n",
      "{'_id': ObjectId('66f4db8e2bd9a9ee9692ba60'), 'Name': 'Ishaq', 'Roll_No': 69, 'CGPA': 3.25, 'Department': 'M-Phil', 'Status': True}\n",
      "{'_id': ObjectId('66f4db8e2bd9a9ee9692ba61'), 'Name': 'Zeeshan', 'Roll_No': 32, 'CGPA': 3.0, 'Department': 'Law', 'Status': False}\n"
     ]
    }
   ],
   "source": [
    "# find things\n",
    "for a in info.find():\n",
    "    print(a)"
   ]
  },
  {
   "cell_type": "code",
   "execution_count": 5,
   "id": "30872b16-2269-4216-be40-e95eca887b0e",
   "metadata": {},
   "outputs": [
    {
     "name": "stdout",
     "output_type": "stream",
     "text": [
      "{'_id': ObjectId('66f3d91c285939a503269f62'), 'Name': 'Sayd Ayhsan', 'Roll_No': 52, 'CGPA': 3.15, 'Department': 'Eng', 'Status': False}\n",
      "{'_id': ObjectId('66f3d91c285939a503269f63'), 'Name': 'Abdurhman', 'Roll_No': 59, 'CGPA': 3.35, 'Department': 'M-Phil', 'Status': False}\n",
      "{'_id': ObjectId('66f3dd44285939a503269f6d'), 'Name': 'Haroon', 'Roll_No': 59, 'CGPA': 2.45, 'Department': 'SE', 'Status': False}\n",
      "{'_id': ObjectId('66f3dd44285939a503269f6f'), 'Name': 'Zeeshan', 'Roll_No': 32, 'CGPA': 3.0, 'Department': 'Law', 'Status': False}\n",
      "{'_id': ObjectId('66f4db8e2bd9a9ee9692ba5c'), 'Name': 'Sayd Ayhsan', 'Roll_No': 52, 'CGPA': 3.15, 'Department': 'Eng', 'Status': False}\n",
      "{'_id': ObjectId('66f4db8e2bd9a9ee9692ba5d'), 'Name': 'Abdurhman', 'Roll_No': 59, 'CGPA': 2.35, 'Department': 'M-Phil', 'Status': False}\n",
      "{'_id': ObjectId('66f4db8e2bd9a9ee9692ba5f'), 'Name': 'Haroon', 'Roll_No': 59, 'CGPA': 2.45, 'Department': 'SE', 'Status': False}\n",
      "{'_id': ObjectId('66f4db8e2bd9a9ee9692ba61'), 'Name': 'Zeeshan', 'Roll_No': 32, 'CGPA': 3.0, 'Department': 'Law', 'Status': False}\n"
     ]
    }
   ],
   "source": [
    "for b in info.find({\"Status\":False}):\n",
    "    print(b)"
   ]
  },
  {
   "cell_type": "code",
   "execution_count": 6,
   "id": "3a606630-32f0-4222-a147-8d18969e3c34",
   "metadata": {},
   "outputs": [
    {
     "name": "stdout",
     "output_type": "stream",
     "text": [
      "{'_id': ObjectId('66f3dd44285939a503269f6d'), 'Name': 'Haroon', 'Roll_No': 59, 'CGPA': 2.45, 'Department': 'SE', 'Status': False}\n",
      "{'_id': ObjectId('66f4db8e2bd9a9ee9692ba5f'), 'Name': 'Haroon', 'Roll_No': 59, 'CGPA': 2.45, 'Department': 'SE', 'Status': False}\n"
     ]
    }
   ],
   "source": [
    "# in operator\n",
    "for c in info.find({\"Department\":{\"$in\":[\"SE\",\"M_Phil\"]}}):\n",
    "    print(c)"
   ]
  },
  {
   "cell_type": "code",
   "execution_count": 7,
   "id": "5960156d-0e3e-43da-8e4b-b8333f17de5e",
   "metadata": {},
   "outputs": [
    {
     "name": "stdout",
     "output_type": "stream",
     "text": [
      "{'_id': ObjectId('66f3d91c285939a503269f62'), 'Name': 'Sayd Ayhsan', 'Roll_No': 52, 'CGPA': 3.15, 'Department': 'Eng', 'Status': False}\n",
      "{'_id': ObjectId('66f4db8e2bd9a9ee9692ba5c'), 'Name': 'Sayd Ayhsan', 'Roll_No': 52, 'CGPA': 3.15, 'Department': 'Eng', 'Status': False}\n"
     ]
    }
   ],
   "source": [
    "# and operator\n",
    "for d in info.find({\"Department\":\"Eng\",\"Status\":{'$lt':True}}):\n",
    "    print(d)"
   ]
  },
  {
   "cell_type": "code",
   "execution_count": 8,
   "id": "6fe7d91f-bf0e-4722-9693-e00fea22517a",
   "metadata": {},
   "outputs": [
    {
     "name": "stdout",
     "output_type": "stream",
     "text": [
      "{'_id': ObjectId('66f3d7c9285939a503269f60'), 'Name': 'Muhammad Awais', 'Roll_NO': 78, 'CGPA': 3.55, 'Departement': 'SE', 'Status': True}\n",
      "{'_id': ObjectId('66f3d91c285939a503269f61'), 'Name': 'Murtza', 'Roll_No': 37, 'CGPA': 2.98, 'Department': 'Eng', 'Status': True}\n",
      "{'_id': ObjectId('66f3d91c285939a503269f63'), 'Name': 'Abdurhman', 'Roll_No': 59, 'CGPA': 3.35, 'Department': 'M-Phil', 'Status': False}\n",
      "{'_id': ObjectId('66f3dd44285939a503269f6c'), 'Name': 'Subhan', 'Roll_No': 40, 'CGPA': 3.02, 'Department': 'Eng', 'Status': True}\n",
      "{'_id': ObjectId('66f3dd44285939a503269f6e'), 'Name': 'Ishaq', 'Roll_No': 69, 'CGPA': 3.25, 'Department': 'M-Phil', 'Status': True}\n",
      "{'_id': ObjectId('66f4db732bd9a9ee9692ba5a'), 'Name': 'Muhammad Awais', 'Roll_NO': 78, 'CGPA': 3.55, 'Departement': 'SE', 'Status': True}\n",
      "{'_id': ObjectId('66f4db8e2bd9a9ee9692ba5b'), 'Name': 'Murtza', 'Roll_No': 37, 'CGPA': 2.98, 'Department': 'Eng', 'Status': True}\n",
      "{'_id': ObjectId('66f4db8e2bd9a9ee9692ba5d'), 'Name': 'Abdurhman', 'Roll_No': 59, 'CGPA': 2.35, 'Department': 'M-Phil', 'Status': False}\n",
      "{'_id': ObjectId('66f4db8e2bd9a9ee9692ba5e'), 'Name': 'Subhan', 'Roll_No': 40, 'CGPA': 3.02, 'Department': 'Eng', 'Status': True}\n",
      "{'_id': ObjectId('66f4db8e2bd9a9ee9692ba60'), 'Name': 'Ishaq', 'Roll_No': 69, 'CGPA': 3.25, 'Department': 'M-Phil', 'Status': True}\n"
     ]
    }
   ],
   "source": [
    "# OR operator\n",
    "for e in info.find({\"$or\":[{\"Department\":\"M-Phil\"},{\"Status\":True}]}):\n",
    "    print(e)"
   ]
  },
  {
   "cell_type": "code",
   "execution_count": 9,
   "id": "6ff8cd4f-be78-418c-a786-8514037bd1e6",
   "metadata": {},
   "outputs": [],
   "source": [
    "# Creating the new database\n",
    "items=mydb.items"
   ]
  },
  {
   "cell_type": "code",
   "execution_count": 10,
   "id": "3c25ffb5-c74e-40b0-bd24-da762e8bf9d9",
   "metadata": {},
   "outputs": [
    {
     "data": {
      "text/plain": [
       "InsertManyResult([ObjectId('66f4db932bd9a9ee9692ba62'), ObjectId('66f4db932bd9a9ee9692ba63'), ObjectId('66f4db932bd9a9ee9692ba64'), ObjectId('66f4db932bd9a9ee9692ba65')], acknowledged=True)"
      ]
     },
     "execution_count": 10,
     "metadata": {},
     "output_type": "execute_result"
    }
   ],
   "source": [
    "items.insert_many([{'item':'journal','qty':25,'size':{'h':14,'w':21,'uom':\"cm\"},'status':True},\n",
    "                   {'item':'notebook','qty':50,'size':{'h':20,'w':20,'uom':\"inch\"},'status':True},\n",
    "                   {'item':'paper','qty':100,'size':{'h':70,'w':35,'uom':\"cm\"},'status':False},\n",
    "                   {'item':'journal','qty':25,'size':{'h':20,'w':100,'uom':\"f\"},'status':True}])"
   ]
  },
  {
   "cell_type": "code",
   "execution_count": 11,
   "id": "98e9e886-89e7-41df-a5e4-3738d76ae040",
   "metadata": {},
   "outputs": [
    {
     "name": "stdout",
     "output_type": "stream",
     "text": [
      "{'_id': ObjectId('66f3e41b285939a503269f70'), 'item': 'journal', 'qty': 25, 'size': {'h': 14, 'w': 21, 'uom': 'cm'}, 'ststus': True}\n",
      "{'_id': ObjectId('66f4db932bd9a9ee9692ba62'), 'item': 'journal', 'qty': 25, 'size': {'h': 14, 'w': 21, 'uom': 'cm'}, 'status': True}\n"
     ]
    }
   ],
   "source": [
    "for records in items.find({'size':{'h':14,'w':21,'uom':\"cm\"}}):\n",
    "    print(records)"
   ]
  },
  {
   "cell_type": "code",
   "execution_count": 12,
   "id": "f8b5840d-1e2f-4f71-bcea-700425a40237",
   "metadata": {},
   "outputs": [
    {
     "data": {
      "text/plain": [
       "UpdateResult({'n': 1, 'nModified': 1, 'ok': 1.0, 'updatedExisting': True}, acknowledged=True)"
      ]
     },
     "execution_count": 12,
     "metadata": {},
     "output_type": "execute_result"
    }
   ],
   "source": [
    "# Updating one \n",
    "items.update_one(\n",
    "    {'item':'notebook'},{'$set':{'size.uom':'inch'},'$currentDate':{'lastmodified':True}})"
   ]
  },
  {
   "cell_type": "code",
   "execution_count": 13,
   "id": "aac76a2c-f9a7-4980-9db9-60bf285b2635",
   "metadata": {},
   "outputs": [
    {
     "data": {
      "text/plain": [
       "UpdateResult({'n': 2, 'nModified': 1, 'ok': 1.0, 'updatedExisting': True}, acknowledged=True)"
      ]
     },
     "execution_count": 13,
     "metadata": {},
     "output_type": "execute_result"
    }
   ],
   "source": [
    "# Update many\n",
    "items.update_many(\n",
    "    {'qty': {'$eq': 50}},\n",
    "    {'$set': {'size.uom': 'inch', 'status': False}}\n",
    ")\n"
   ]
  },
  {
   "cell_type": "code",
   "execution_count": 14,
   "id": "77ccf224-d762-4cb2-b329-d640cd19db8a",
   "metadata": {},
   "outputs": [
    {
     "data": {
      "text/plain": [
       "UpdateResult({'n': 1, 'nModified': 1, 'ok': 1.0, 'updatedExisting': True}, acknowledged=True)"
      ]
     },
     "execution_count": 14,
     "metadata": {},
     "output_type": "execute_result"
    }
   ],
   "source": [
    "items.replace_one(\n",
    "    {'item':'paper'},\n",
    "    {'item':'paper',\n",
    "     'instoke':[\n",
    "         {'wherehouse':'A','qty':300},\n",
    "         {'wherehouse':'B','qty':800}]})"
   ]
  },
  {
   "cell_type": "code",
   "execution_count": 15,
   "id": "dccf4696-3944-4886-bcb2-b37fa223449a",
   "metadata": {},
   "outputs": [
    {
     "data": {
      "text/plain": [
       "InsertManyResult([ObjectId('66f4de2f2bd9a9ee9692ba66'), ObjectId('66f4de2f2bd9a9ee9692ba67'), ObjectId('66f4de2f2bd9a9ee9692ba68'), ObjectId('66f4de2f2bd9a9ee9692ba69'), ObjectId('66f4de2f2bd9a9ee9692ba6a'), ObjectId('66f4de2f2bd9a9ee9692ba6b')], acknowledged=True)"
      ]
     },
     "execution_count": 15,
     "metadata": {},
     "output_type": "execute_result"
    }
   ],
   "source": [
    "# Creating the new database\n",
    "mydb=client['stu_info']\n",
    "Info_Stu=mydb.Info_Stu\n",
    "stu_records=[{\"Name\":\"Muhammad Awais\",\"Age\":24,\"Subjects\":\"Python\",\"Fee\":\"Paid\",\"Score\":80},\n",
    "        {\"Name\":\"Ishaq\",\"Age\":21,\"Subjects\":\"Java\",\"Fee\":\"Unpaid\",\"Score\":65},\n",
    "        {\"Name\":\"Muhammad Abdullah\",\"Age\":25,\"Subjects\":\"Web Dev\",\"Fee\":\"Paid\",\"Score\":90},\n",
    "        {\"Name\":\"Muhammad Awais\",\"Age\":24,\"Subjects\":\"MongoDB\",\"Fee\":\"Unpaid\",\"Score\":50},\n",
    "        {\"Name\":\"Muhammad Awais\",\"Age\":24,\"Subjects\":\"Data Science\",\"Fee\":\"Unpaid\",\"Score\":78},\n",
    "        {\"Name\":\"Muhammad Abdullah\",\"Age\":25,\"Subjects\":\"Java Script\",\"Fee\":\"Unpaid\",\"Score\":55}]\n",
    "Info_Stu.insert_many(stu_records)"
   ]
  },
  {
   "cell_type": "code",
   "execution_count": 21,
   "id": "28a9afc0-0815-489d-9731-93b86ab85c1d",
   "metadata": {},
   "outputs": [
    {
     "name": "stdout",
     "output_type": "stream",
     "text": [
      "{'_id': 'Muhammad Abdullah', 'Total Subjects': 2}\n",
      "{'_id': 'Muhammad Awais', 'Total Subjects': 3}\n",
      "{'_id': 'Ishaq', 'Total Subjects': 1}\n"
     ]
    }
   ],
   "source": [
    "# Check how many students taken the subjects\n",
    "# must use $group and the _id is the unique and then other code part\n",
    "# it basically sum all the records according to the user\n",
    "result=Info_Stu.aggregate(\n",
    "    [{\n",
    "        \"$group\":\n",
    "        {\"_id\":\"$Name\",\n",
    "        \"Total Subjects\":{\"$sum\":1}\n",
    "        }}\n",
    "    ])\n",
    "for i in result:\n",
    "    print(i)"
   ]
  },
  {
   "cell_type": "code",
   "execution_count": 23,
   "id": "f2986605-94bf-4f5e-9d65-7e6102efc3a4",
   "metadata": {},
   "outputs": [
    {
     "data": {
      "text/plain": [
       "InsertOneResult(ObjectId('66f4e2062bd9a9ee9692ba6c'), acknowledged=True)"
      ]
     },
     "execution_count": 23,
     "metadata": {},
     "output_type": "execute_result"
    }
   ],
   "source": [
    "Info_Stu.insert_one({\"Name\":\"Raja Abdr\",\"Age\":25,\"Subjects\":\"Data Science\",\"Fee\":\"Unpaid\",\"Score\":45})"
   ]
  },
  {
   "cell_type": "code",
   "execution_count": 27,
   "id": "d5d19315-c5b2-49fe-ae66-ef9155c110bc",
   "metadata": {},
   "outputs": [
    {
     "name": "stdout",
     "output_type": "stream",
     "text": [
      "{'_id': 'Java', 'Total Subjects': 1}\n",
      "{'_id': 'MongoDB', 'Total Subjects': 1}\n",
      "{'_id': 'Data Science', 'Total Subjects': 2}\n",
      "{'_id': 'Python', 'Total Subjects': 1}\n",
      "{'_id': 'Java Script', 'Total Subjects': 1}\n",
      "{'_id': 'Web Dev', 'Total Subjects': 1}\n"
     ]
    }
   ],
   "source": [
    "result=Info_Stu.aggregate(\n",
    "    [{\n",
    "        \"$group\":\n",
    "        {\"_id\":\"$Subjects\",\n",
    "        \"Total Subjects\":{\"$sum\":1}\n",
    "        }}\n",
    "    ])\n",
    "for i in result:\n",
    "    print(i)"
   ]
  },
  {
   "cell_type": "code",
   "execution_count": 29,
   "id": "1a62d108-ed1f-4288-87ce-1bb0bc788618",
   "metadata": {},
   "outputs": [
    {
     "name": "stdout",
     "output_type": "stream",
     "text": [
      "{'_id': 'Muhammad Awais', 'Total Score': 208}\n",
      "{'_id': 'Ishaq', 'Total Score': 65}\n",
      "{'_id': 'Muhammad Abdullah', 'Total Score': 145}\n",
      "{'_id': 'Raja Abdr', 'Total Score': 45}\n"
     ]
    }
   ],
   "source": [
    "# Calculate every student Score\n",
    "Score=Info_Stu.aggregate(\n",
    "    [{\n",
    "        \"$group\":\n",
    "        {\"_id\":\"$Name\",\n",
    "        \"Total Score\":{\"$sum\":'$Score'}\n",
    "        }}\n",
    "    ])\n",
    "for y in Score:\n",
    "    print(y)"
   ]
  },
  {
   "cell_type": "code",
   "execution_count": 30,
   "id": "4755fcd1-8743-41a1-b325-a2ef11c355c5",
   "metadata": {},
   "outputs": [
    {
     "name": "stdout",
     "output_type": "stream",
     "text": [
      "{'_id': 'Muhammad Awais', 'Total Score': 69.33333333333333}\n",
      "{'_id': 'Ishaq', 'Total Score': 65.0}\n",
      "{'_id': 'Muhammad Abdullah', 'Total Score': 72.5}\n",
      "{'_id': 'Raja Abdr', 'Total Score': 45.0}\n"
     ]
    }
   ],
   "source": [
    "# Average Score of the students\n",
    "Avg_score=Info_Stu.aggregate(\n",
    "    [{\n",
    "        \"$group\":\n",
    "        {\"_id\":\"$Name\",\n",
    "        \"Total Score\":{\"$avg\":'$Score'}\n",
    "        }}\n",
    "    ])\n",
    "for y in Avg_score:\n",
    "    print(y)"
   ]
  },
  {
   "cell_type": "code",
   "execution_count": 32,
   "id": "0bc60e13-9326-4cdb-a3e8-8ecff0ea0158",
   "metadata": {},
   "outputs": [],
   "source": [
    "import datetime as datetime"
   ]
  },
  {
   "cell_type": "code",
   "execution_count": 33,
   "id": "12e0e939-fcbe-492a-afdf-41113bb78496",
   "metadata": {},
   "outputs": [
    {
     "name": "stderr",
     "output_type": "stream",
     "text": [
      "C:\\Users\\MR OSMAN\\AppData\\Local\\Temp\\ipykernel_10364\\1581049576.py:1: DeprecationWarning: datetime.datetime.utcnow() is deprecated and scheduled for removal in a future version. Use timezone-aware objects to represent datetimes in UTC: datetime.datetime.now(datetime.UTC).\n",
      "  data=[{'_id':1,'item':'abc','price':10,'qty':3,'date':datetime.datetime.utcnow()},\n",
      "C:\\Users\\MR OSMAN\\AppData\\Local\\Temp\\ipykernel_10364\\1581049576.py:2: DeprecationWarning: datetime.datetime.utcnow() is deprecated and scheduled for removal in a future version. Use timezone-aware objects to represent datetimes in UTC: datetime.datetime.now(datetime.UTC).\n",
      "  {'_id':2,'item':'def','price':20,'qty':5,'date':datetime.datetime.utcnow()},\n",
      "C:\\Users\\MR OSMAN\\AppData\\Local\\Temp\\ipykernel_10364\\1581049576.py:3: DeprecationWarning: datetime.datetime.utcnow() is deprecated and scheduled for removal in a future version. Use timezone-aware objects to represent datetimes in UTC: datetime.datetime.now(datetime.UTC).\n",
      "  {'_id':3,'item':'ghi','price':10,'qty':2,'date':datetime.datetime.utcnow()},\n",
      "C:\\Users\\MR OSMAN\\AppData\\Local\\Temp\\ipykernel_10364\\1581049576.py:4: DeprecationWarning: datetime.datetime.utcnow() is deprecated and scheduled for removal in a future version. Use timezone-aware objects to represent datetimes in UTC: datetime.datetime.now(datetime.UTC).\n",
      "  {'_id':4,'item':'jkl','price':2,'qty':10,'date':datetime.datetime.utcnow()},\n",
      "C:\\Users\\MR OSMAN\\AppData\\Local\\Temp\\ipykernel_10364\\1581049576.py:5: DeprecationWarning: datetime.datetime.utcnow() is deprecated and scheduled for removal in a future version. Use timezone-aware objects to represent datetimes in UTC: datetime.datetime.now(datetime.UTC).\n",
      "  {'_id':5,'item':'mno','price':50,'qty':7,'date':datetime.datetime.utcnow()}]\n"
     ]
    }
   ],
   "source": [
    "data=[{'_id':1,'item':'abc','price':10,'qty':3,'date':datetime.datetime.utcnow()},\n",
    "     {'_id':2,'item':'def','price':20,'qty':5,'date':datetime.datetime.utcnow()},\n",
    "     {'_id':3,'item':'ghi','price':10,'qty':2,'date':datetime.datetime.utcnow()},\n",
    "     {'_id':4,'item':'jkl','price':2,'qty':10,'date':datetime.datetime.utcnow()},\n",
    "     {'_id':5,'item':'mno','price':50,'qty':7,'date':datetime.datetime.utcnow()}]"
   ]
  },
  {
   "cell_type": "code",
   "execution_count": 35,
   "id": "e4ceac68-81c8-4f3c-9ef9-c41b5868d51c",
   "metadata": {},
   "outputs": [
    {
     "data": {
      "text/plain": [
       "InsertManyResult([1, 2, 3, 4, 5], acknowledged=True)"
      ]
     },
     "execution_count": 35,
     "metadata": {},
     "output_type": "execute_result"
    }
   ],
   "source": [
    "my_items=mydb.item_info\n",
    "my_items.insert_many(data)"
   ]
  },
  {
   "cell_type": "code",
   "execution_count": 37,
   "id": "fe2f5893-a1d3-4fdc-a2d3-0f9f8a9abdce",
   "metadata": {},
   "outputs": [
    {
     "name": "stderr",
     "output_type": "stream",
     "text": [
      "C:\\Users\\MR OSMAN\\AppData\\Local\\Temp\\ipykernel_10364\\526673970.py:1: DeprecationWarning: datetime.datetime.utcnow() is deprecated and scheduled for removal in a future version. Use timezone-aware objects to represent datetimes in UTC: datetime.datetime.now(datetime.UTC).\n",
      "  my_items.insert_one({'_id':6,'item':'mno','price':20,'qty':4,'date':datetime.datetime.utcnow()})\n"
     ]
    },
    {
     "data": {
      "text/plain": [
       "InsertOneResult(6, acknowledged=True)"
      ]
     },
     "execution_count": 37,
     "metadata": {},
     "output_type": "execute_result"
    }
   ],
   "source": [
    "my_items.insert_one({'_id':6,'item':'mno','price':20,'qty':4,'date':datetime.datetime.utcnow()})"
   ]
  },
  {
   "cell_type": "code",
   "execution_count": 38,
   "id": "2eb9355a-ad52-43f8-8226-b4cf0abce74c",
   "metadata": {},
   "outputs": [
    {
     "name": "stdout",
     "output_type": "stream",
     "text": [
      "{'_id': 'ghi', 'Avg_Amount': 20.0, 'Avg_qty': 2.0}\n",
      "{'_id': 'def', 'Avg_Amount': 100.0, 'Avg_qty': 5.0}\n",
      "{'_id': 'jkl', 'Avg_Amount': 20.0, 'Avg_qty': 10.0}\n",
      "{'_id': 'mno', 'Avg_Amount': 215.0, 'Avg_qty': 5.5}\n",
      "{'_id': 'abc', 'Avg_Amount': 30.0, 'Avg_qty': 3.0}\n"
     ]
    }
   ],
   "source": [
    "my_result=my_items.aggregate([\n",
    "    {\n",
    "        '$group':{\n",
    "            '_id':'$item',\n",
    "            'Avg_Amount':{'$avg':{'$multiply':['$price','$qty']}},\n",
    "            'Avg_qty':{'$avg':'$qty'}\n",
    "        }\n",
    "    }\n",
    "])\n",
    "for i in my_result:\n",
    "    print(i)"
   ]
  },
  {
   "cell_type": "code",
   "execution_count": null,
   "id": "1e6b50fe-ca58-4f5b-8426-3f60b785d3e7",
   "metadata": {},
   "outputs": [],
   "source": [
    "# Using the $projects "
   ]
  }
 ],
 "metadata": {
  "kernelspec": {
   "display_name": "Python 3 (ipykernel)",
   "language": "python",
   "name": "python3"
  },
  "language_info": {
   "codemirror_mode": {
    "name": "ipython",
    "version": 3
   },
   "file_extension": ".py",
   "mimetype": "text/x-python",
   "name": "python",
   "nbconvert_exporter": "python",
   "pygments_lexer": "ipython3",
   "version": "3.12.4"
  }
 },
 "nbformat": 4,
 "nbformat_minor": 5
}
