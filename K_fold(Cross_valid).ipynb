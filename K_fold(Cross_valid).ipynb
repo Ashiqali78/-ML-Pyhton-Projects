{
 "cells": [
  {
   "cell_type": "code",
   "execution_count": 1,
   "id": "2209780b-72a7-4167-af5d-34c7998f127e",
   "metadata": {},
   "outputs": [],
   "source": [
    "import sklearn\n",
    "import pandas as pd\n",
    "import numpy as np"
   ]
  },
  {
   "cell_type": "code",
   "execution_count": 2,
   "id": "4c212b86-19db-4859-8964-b58fa920fc6f",
   "metadata": {},
   "outputs": [],
   "source": [
    "from sklearn.linear_model import LogisticRegression\n",
    "from sklearn.svm import SVC\n",
    "from sklearn.ensemble import RandomForestClassifier\n",
    "from  sklearn.datasets import load_digits"
   ]
  },
  {
   "cell_type": "code",
   "execution_count": 3,
   "id": "143363ce-1312-4bf8-af71-e2ade29cd3d1",
   "metadata": {},
   "outputs": [],
   "source": [
    "digits=load_digits()\n",
    "from sklearn.model_selection import train_test_split\n",
    "x_train, x_test, y_train, y_test = train_test_split(digits.data,digits.target,test_size=0.3)"
   ]
  },
  {
   "cell_type": "code",
   "execution_count": 4,
   "id": "2980b4d0-86ed-4578-9246-30b561395c26",
   "metadata": {},
   "outputs": [
    {
     "name": "stdout",
     "output_type": "stream",
     "text": [
      "1257\n",
      "1257\n"
     ]
    }
   ],
   "source": [
    "print(len(x_train))\n",
    "print(len(y_train))"
   ]
  },
  {
   "cell_type": "markdown",
   "id": "64a89440-10c0-4042-abeb-5d38f909d7c1",
   "metadata": {},
   "source": [
    "*Linear Regression*"
   ]
  },
  {
   "cell_type": "code",
   "execution_count": 40,
   "id": "08e58758-f162-4b22-91e0-89425f052cbf",
   "metadata": {},
   "outputs": [
    {
     "data": {
      "text/plain": [
       "0.9165275459098498"
      ]
     },
     "execution_count": 40,
     "metadata": {},
     "output_type": "execute_result"
    }
   ],
   "source": [
    "lr=LogisticRegression(max_iter=200)\n",
    "lr.fit(x_train, y_train)\n",
    "lr.score(x_test, y_test)"
   ]
  },
  {
   "cell_type": "markdown",
   "id": "a6e998b9-436d-4f64-b423-7c0d35cf1eca",
   "metadata": {},
   "source": [
    "*Using SVM*"
   ]
  },
  {
   "cell_type": "code",
   "execution_count": 6,
   "id": "ef3cb966-d2ae-4e0e-bb8b-392821c7f242",
   "metadata": {},
   "outputs": [
    {
     "data": {
      "text/plain": [
       "0.9851851851851852"
      ]
     },
     "execution_count": 6,
     "metadata": {},
     "output_type": "execute_result"
    }
   ],
   "source": [
    "svm=SVC()\n",
    "svm.fit(x_train, y_train)\n",
    "svm.score(x_test, y_test)"
   ]
  },
  {
   "cell_type": "markdown",
   "id": "aa4cc3da-fca7-4276-a84a-480c4acdc689",
   "metadata": {},
   "source": [
    "*Using Random Forest* "
   ]
  },
  {
   "cell_type": "code",
   "execution_count": 7,
   "id": "920f1e0c-4cea-476b-b478-263362a41d6e",
   "metadata": {},
   "outputs": [
    {
     "data": {
      "text/plain": [
       "0.9703703703703703"
      ]
     },
     "execution_count": 7,
     "metadata": {},
     "output_type": "execute_result"
    }
   ],
   "source": [
    "rf=RandomForestClassifier(n_estimators=50)\n",
    "rf.fit(x_train, y_train)\n",
    "rf.score(x_test, y_test)"
   ]
  },
  {
   "cell_type": "code",
   "execution_count": 9,
   "id": "0e4e882b-9427-4c65-b426-fd6729cebd7b",
   "metadata": {},
   "outputs": [],
   "source": [
    "def get_score(model, x_train, x_test, y_train, y_test):\n",
    "    model.fit(x_train, y_train)\n",
    "    return model.score(x_test, y_test)"
   ]
  },
  {
   "cell_type": "code",
   "execution_count": 10,
   "id": "d775f483-fc5a-473d-9c97-7f5181acf411",
   "metadata": {},
   "outputs": [
    {
     "data": {
      "text/plain": [
       "0.9722222222222222"
      ]
     },
     "execution_count": 10,
     "metadata": {},
     "output_type": "execute_result"
    }
   ],
   "source": [
    "get_score(RandomForestClassifier(), x_train, x_test, y_train, y_test)"
   ]
  },
  {
   "cell_type": "markdown",
   "id": "0edee565-8294-45ec-89e4-f9b5e65b56f7",
   "metadata": {},
   "source": [
    "### K_fold"
   ]
  },
  {
   "cell_type": "code",
   "execution_count": 33,
   "id": "c27632a4-4013-4dae-9d10-1464e0dec69d",
   "metadata": {},
   "outputs": [],
   "source": [
    "from sklearn.model_selection import KFold\n",
    "kf=KFold(n_splits=3)"
   ]
  },
  {
   "cell_type": "code",
   "execution_count": 34,
   "id": "58c16c53-8556-4ab7-abdf-30c347852eb3",
   "metadata": {},
   "outputs": [
    {
     "name": "stdout",
     "output_type": "stream",
     "text": [
      "[3 4 5 6 7 8] [0 1 2]\n",
      "[0 1 2 6 7 8] [3 4 5]\n",
      "[0 1 2 3 4 5] [6 7 8]\n"
     ]
    }
   ],
   "source": [
    "for train_index, test_index in kf.split([1,2,3,4,5,6,7,8,9]):\n",
    "    print(train_index, test_index)"
   ]
  },
  {
   "cell_type": "code",
   "execution_count": 35,
   "id": "9d936ae3-858c-4d28-9a3d-bde7cb3750aa",
   "metadata": {},
   "outputs": [],
   "source": [
    "from sklearn.model_selection import StratifiedKFold\n",
    "skf=StratifiedKFold(n_splits=3)"
   ]
  },
  {
   "cell_type": "code",
   "execution_count": 45,
   "id": "cac2966f-453a-4024-8fa6-790c0b048608",
   "metadata": {},
   "outputs": [],
   "source": [
    "lr_score=[]\n",
    "rf_score=[]\n",
    "svc_score=[]\n",
    "\n",
    "\n",
    "for train_index, test_index in skf.split(digits.data, digits.target):\n",
    "    # Split the data into training and testing sets\n",
    "    x_train, x_test = digits.data[train_index], digits.data[test_index]\n",
    "    y_train, y_test = digits.target[train_index], digits.target[test_index]\n",
    "\n",
    "    # Call get_score function (make sure it's defined)\n",
    "    lr_score.append(get_score(LogisticRegression(max_iter=200), x_train, x_test, y_train, y_test))\n",
    "    rf_score.append(get_score(RandomForestClassifier(n_estimators=40), x_train, x_test, y_train, y_test))\n",
    "    svc_score.append(get_score(SVC(), x_train, x_test, y_train, y_test))\n"
   ]
  },
  {
   "cell_type": "code",
   "execution_count": 46,
   "id": "b616f52c-3d56-4dd3-8b5c-8575921157c7",
   "metadata": {},
   "outputs": [
    {
     "name": "stdout",
     "output_type": "stream",
     "text": [
      "[0.9198664440734557, 0.9415692821368948, 0.9165275459098498]\n",
      "[0.9382303839732888, 0.9449081803005008, 0.9332220367278798]\n",
      "[0.9649415692821369, 0.9799666110183639, 0.9649415692821369]\n"
     ]
    }
   ],
   "source": [
    "print(lr_score)\n",
    "print(rf_score)\n",
    "print(svc_score)"
   ]
  },
  {
   "cell_type": "markdown",
   "id": "478b0371-adbd-4a49-8b22-ccfc899e9c57",
   "metadata": {},
   "source": [
    "*Alternate* "
   ]
  },
  {
   "cell_type": "code",
   "execution_count": 47,
   "id": "c2623adc-10fa-49d3-a16b-1a13dadeda12",
   "metadata": {},
   "outputs": [],
   "source": [
    "from sklearn.model_selection import cross_val_score"
   ]
  },
  {
   "cell_type": "code",
   "execution_count": 50,
   "id": "a0a23923-bda9-4cbc-9496-863f23b839b7",
   "metadata": {},
   "outputs": [
    {
     "data": {
      "text/plain": [
       "array([0.92222222, 0.87222222, 0.94150418, 0.94150418, 0.89693593])"
      ]
     },
     "execution_count": 50,
     "metadata": {},
     "output_type": "execute_result"
    }
   ],
   "source": [
    "cross_val_score(LogisticRegression(max_iter=200), digits.data, digits.target)"
   ]
  },
  {
   "cell_type": "code",
   "execution_count": 51,
   "id": "97faaf77-8f51-4834-8d3c-e0cd1cab31fd",
   "metadata": {},
   "outputs": [
    {
     "data": {
      "text/plain": [
       "array([0.96111111, 0.94444444, 0.98328691, 0.98885794, 0.93871866])"
      ]
     },
     "execution_count": 51,
     "metadata": {},
     "output_type": "execute_result"
    }
   ],
   "source": [
    "cross_val_score(SVC(), digits.data, digits.target)"
   ]
  },
  {
   "cell_type": "code",
   "execution_count": 53,
   "id": "dd67717c-ef2e-430e-8de2-fc3d5d53f467",
   "metadata": {},
   "outputs": [
    {
     "data": {
      "text/plain": [
       "array([0.93611111, 0.89722222, 0.95821727, 0.97214485, 0.91922006])"
      ]
     },
     "execution_count": 53,
     "metadata": {},
     "output_type": "execute_result"
    }
   ],
   "source": [
    "cross_val_score(RandomForestClassifier(), digits.data, digits.target)"
   ]
  },
  {
   "cell_type": "markdown",
   "id": "b01a144c-fa92-4eaf-a06f-2a0757525c4a",
   "metadata": {},
   "source": [
    "*Then after you have to do the parameter tuning to get the best result from your validation*"
   ]
  },
  {
   "cell_type": "code",
   "execution_count": null,
   "id": "b4f329e0-3e59-4865-992f-c2cbfef2ffd0",
   "metadata": {},
   "outputs": [],
   "source": []
  }
 ],
 "metadata": {
  "kernelspec": {
   "display_name": "Python 3 (ipykernel)",
   "language": "python",
   "name": "python3"
  },
  "language_info": {
   "codemirror_mode": {
    "name": "ipython",
    "version": 3
   },
   "file_extension": ".py",
   "mimetype": "text/x-python",
   "name": "python",
   "nbconvert_exporter": "python",
   "pygments_lexer": "ipython3",
   "version": "3.12.4"
  },
  "widgets": {
   "application/vnd.jupyter.widget-state+json": {
    "state": {},
    "version_major": 2,
    "version_minor": 0
   }
  }
 },
 "nbformat": 4,
 "nbformat_minor": 5
}
